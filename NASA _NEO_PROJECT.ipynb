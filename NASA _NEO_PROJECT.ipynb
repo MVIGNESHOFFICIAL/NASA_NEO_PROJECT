{
 "cells": [
  {
   "cell_type": "code",
   "execution_count": 1,
   "id": "8addbb90-adb7-4fc4-a2b8-8220b5f97a44",
   "metadata": {},
   "outputs": [],
   "source": [
    "import requests\n",
    "\n",
    "from datetime import datetime\n",
    "\n",
    "import pandas as pd\n"
   ]
  },
  {
   "cell_type": "code",
   "execution_count": 2,
   "id": "fbb70ba2-17c3-40da-ac4e-24acbde469f0",
   "metadata": {},
   "outputs": [],
   "source": [
    "\n",
    "API_KEY = \"2lzP1WX4IAnQT29AfbjhrHbaPB2qIR2IUWmRkY4x\"\n",
    "url = f\"https://api.nasa.gov/neo/rest/v1/feed?start_date=2024-01-01&end_date=2024-01-08&api_key={API_KEY}\"\n",
    "\n",
    "asteroids_data = []  # Empty list to store asteroid information\n",
    "target = 10000      # Target number of asteroids to fetch\n",
    "\n",
    "while len(asteroids_data) < target:  # Loop until we reach the target count\n",
    "    url_response = requests.get(url)  # Fetch data from NASA API\n",
    "    data = url_response.json()        # Convert the response to JSON\n",
    "    details = data['near_earth_objects']  # Extract near-earth objects\n",
    "\n",
    "    for date, asteroids in details.items():  # Loop through each date and its asteroids\n",
    "        for ast in asteroids:  # Loop through each asteroid\n",
    "            asteroid_info = {  # Store asteroid details in a dictionary\n",
    "                \"Id\": int(ast['id']),\n",
    "                \"Name\": str(ast['name']),\n",
    "                \"Absolute_magnitude_h\": float(ast['absolute_magnitude_h']),\n",
    "                \"Estimated_dia_min_km\": float(ast['estimated_diameter']['kilometers']['estimated_diameter_min']),\n",
    "                \"Estimated_dia_max_km\": float(ast['estimated_diameter']['kilometers']['estimated_diameter_max']),\n",
    "                \"Is_potentially_hazardous_asteroid\": ast['is_potentially_hazardous_asteroid'],\n",
    "                \"Neo_reference_id\": int(ast['neo_reference_id']),\n",
    "                \"Close_approach_date\": datetime.strptime(ast['close_approach_data'][0]['close_approach_date'], \"%Y-%m-%d\"),\n",
    "                \"Relative_velocity_kmph\": float(ast['close_approach_data'][0]['relative_velocity']['kilometers_per_hour']),\n",
    "                \"Astronomical\": float(ast['close_approach_data'][0]['miss_distance']['astronomical']),\n",
    "                \"Miss_distance_km\": float(ast['close_approach_data'][0]['miss_distance']['kilometers']),\n",
    "                \"Miss_distance_lunar\": float(ast['close_approach_data'][0]['miss_distance']['lunar']),\n",
    "                \"Orbiting_body\": str(ast['close_approach_data'][0]['orbiting_body'])\n",
    "            }\n",
    "\n",
    "            asteroids_data.append(asteroid_info)  # Append asteroid info to the list\n",
    "\n",
    "            # Break if we reached the target\n",
    "        if len(asteroids_data) >= target:\n",
    "                break\n",
    "\n",
    "    if len(asteroids_data) >= target:  # Break the outer loop if target reached\n",
    "            break\n",
    "\n",
    "    url = data['links']['next']  # Move to the next page of results\n",
    "\n"
   ]
  },
  {
   "cell_type": "code",
   "execution_count": 3,
   "id": "b3331d72-ab7d-4c00-801e-215748d30a4c",
   "metadata": {},
   "outputs": [
    {
     "data": {
      "text/plain": [
       "10000"
      ]
     },
     "execution_count": 3,
     "metadata": {},
     "output_type": "execute_result"
    }
   ],
   "source": [
    "len(asteroids_data)"
   ]
  },
  {
   "cell_type": "code",
   "execution_count": 4,
   "id": "30b6314e-bcb5-406f-a18c-ef3de0de106c",
   "metadata": {
    "scrolled": true
   },
   "outputs": [
    {
     "data": {
      "text/plain": [
       "{'Id': 2415949,\n",
       " 'Name': '415949 (2001 XY10)',\n",
       " 'Absolute_magnitude_h': 19.37,\n",
       " 'Estimated_dia_min_km': 0.3552670883,\n",
       " 'Estimated_dia_max_km': 0.7944013596,\n",
       " 'Is_potentially_hazardous_asteroid': False,\n",
       " 'Neo_reference_id': 2415949,\n",
       " 'Close_approach_date': datetime.datetime(2024, 1, 2, 0, 0),\n",
       " 'Relative_velocity_kmph': 57205.8951204341,\n",
       " 'Astronomical': 0.3372535274,\n",
       " 'Miss_distance_km': 50452409.349026635,\n",
       " 'Miss_distance_lunar': 131.1916221586,\n",
       " 'Orbiting_body': 'Earth'}"
      ]
     },
     "execution_count": 4,
     "metadata": {},
     "output_type": "execute_result"
    }
   ],
   "source": [
    "asteroids_data[0]"
   ]
  },
  {
   "cell_type": "code",
   "execution_count": 5,
   "id": "be08d0f2-14af-4b1d-b946-14678559edfd",
   "metadata": {},
   "outputs": [],
   "source": [
    "# MYSQL connection establish\n",
    "\n",
    "import mysql.connector as db\n",
    "\n",
    "conn = db.connect(\n",
    "    host='localhost',\n",
    "    user='vignesh',         \n",
    "    password='1234', \n",
    "    database='guvi_neo_project' \n",
    ")\n",
    "cursor = conn.cursor()\n",
    "\n",
    "cursor.execute(\"USE guvi_neo_project;\") "
   ]
  },
  {
   "cell_type": "code",
   "execution_count": 6,
   "id": "5811c97b-45de-4aa3-95c1-82bc264e9e7d",
   "metadata": {
    "scrolled": true
   },
   "outputs": [],
   "source": [
    "# create two tables\n",
    "\n",
    "cursor.execute(\"\"\"\n",
    "CREATE TABLE asteroids (\n",
    "    id INT,\n",
    "    name VARCHAR(255),\n",
    "    absolute_magnitude_h FLOAT,\n",
    "    estimated_diameter_min_km FLOAT,\n",
    "    estimated_diameter_max_km FLOAT,\n",
    "    is_potentially_hazardous_asteroid BOOLEAN\n",
    ");\n",
    "\"\"\")\n",
    "\n",
    "cursor.execute(\"\"\"\n",
    "CREATE TABLE close_approach (\n",
    "    neo_reference_id INT,\n",
    "    close_approach_date DATE,\n",
    "    relative_velocity_kmph FLOAT,\n",
    "    astronomical FLOAT,\n",
    "    miss_distance_km FLOAT,\n",
    "    miss_distance_lunar FLOAT,\n",
    "    orbiting_body VARCHAR(255)\n",
    ");\n",
    "\"\"\")"
   ]
  },
  {
   "cell_type": "code",
   "execution_count": 7,
   "id": "3186b52a-1643-4556-81bf-7a35b39cdb07",
   "metadata": {
    "scrolled": true
   },
   "outputs": [],
   "source": [
    "#insert the value in table\n",
    "\n",
    "asteroids_values = [\n",
    "    (\n",
    "        ast['Id'],\n",
    "        ast['Name'],\n",
    "        ast['Absolute_magnitude_h'],\n",
    "        ast['Estimated_dia_min_km'],\n",
    "        ast['Estimated_dia_max_km'],\n",
    "        ast['Is_potentially_hazardous_asteroid']\n",
    "    )\n",
    "    for ast in asteroids_data\n",
    "]\n",
    "\n",
    "close_approach_values = [\n",
    "    (\n",
    "        ast['Neo_reference_id'],\n",
    "        ast['Close_approach_date'].date(),  # convert datetime to date\n",
    "        ast['Relative_velocity_kmph'],\n",
    "        ast['Astronomical'],\n",
    "        ast['Miss_distance_km'],\n",
    "        ast['Miss_distance_lunar'],\n",
    "        ast['Orbiting_body']\n",
    "    )\n",
    "    for ast in asteroids_data\n",
    "]\n",
    "\n",
    "cursor.executemany(\"\"\"\n",
    "    INSERT INTO asteroids (Id, Name, Absolute_magnitude_h, Estimated_diameter_min_km, Estimated_diameter_max_km, Is_potentially_hazardous_asteroid)\n",
    "    VALUES (%s, %s, %s, %s, %s, %s)\n",
    "\"\"\", asteroids_values)\n",
    "\n",
    "cursor.executemany(\"\"\"\n",
    "    INSERT INTO close_approach (Neo_reference_id, Close_approach_date, Relative_velocity_kmph, Astronomical, Miss_distance_km, Miss_distance_lunar, Orbiting_body)\n",
    "    VALUES (%s, %s, %s, %s, %s, %s, %s)\n",
    "\"\"\", close_approach_values)\n",
    "\n",
    "conn.commit()\n",
    "\n"
   ]
  }
 ],
 "metadata": {
  "kernelspec": {
   "display_name": "Python 3 (ipykernel)",
   "language": "python",
   "name": "python3"
  },
  "language_info": {
   "codemirror_mode": {
    "name": "ipython",
    "version": 3
   },
   "file_extension": ".py",
   "mimetype": "text/x-python",
   "name": "python",
   "nbconvert_exporter": "python",
   "pygments_lexer": "ipython3",
   "version": "3.13.5"
  }
 },
 "nbformat": 4,
 "nbformat_minor": 5
}
